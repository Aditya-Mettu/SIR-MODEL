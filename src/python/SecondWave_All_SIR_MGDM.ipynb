{
  "nbformat": 4,
  "nbformat_minor": 0,
  "metadata": {
    "language_info": {
      "codemirror_mode": {
        "name": "ipython",
        "version": 3
      },
      "file_extension": ".py",
      "mimetype": "text/x-python",
      "name": "python",
      "nbconvert_exporter": "python",
      "pygments_lexer": "ipython3",
      "version": "3.9.5-final"
    },
    "orig_nbformat": 2,
    "kernelspec": {
      "name": "python39564bitfa8264ebe8fa4155a82b674178870014",
      "display_name": "Python 3.9.5 64-bit"
    },
    "colab": {
      "name": "SecondWave_All_SIR_MGDM.ipynb",
      "provenance": [],
      "collapsed_sections": []
    }
  },
  "cells": [
    {
      "cell_type": "code",
      "metadata": {
        "colab": {
          "base_uri": "https://localhost:8080/"
        },
        "id": "ABSEsSm-jsRi",
        "outputId": "ddeb9306-2f11-4866-a22e-3d1ad8800110"
      },
      "source": [
        "## Chaning path and importing modules\n",
        "!pip3 install -r requirements.txt\n",
        "\n",
        "import os\n",
        "import requests \n",
        "from sys import platform\n",
        "import pandas as pd \n",
        "import numpy as np \n",
        "from matplotlib import pyplot as plt \n",
        "import json"
      ],
      "execution_count": 14,
      "outputs": [
        {
          "output_type": "stream",
          "text": [
            "Requirement already satisfied: pandas in /usr/local/lib/python3.7/dist-packages (from -r requirements.txt (line 1)) (1.1.5)\n",
            "Requirement already satisfied: datetime in /usr/local/lib/python3.7/dist-packages (from -r requirements.txt (line 2)) (4.3)\n",
            "Requirement already satisfied: requests in /usr/local/lib/python3.7/dist-packages (from -r requirements.txt (line 3)) (2.23.0)\n",
            "Requirement already satisfied: matplotlib in /usr/local/lib/python3.7/dist-packages (from -r requirements.txt (line 4)) (3.2.2)\n",
            "Requirement already satisfied: python-dateutil>=2.7.3 in /usr/local/lib/python3.7/dist-packages (from pandas->-r requirements.txt (line 1)) (2.8.1)\n",
            "Requirement already satisfied: pytz>=2017.2 in /usr/local/lib/python3.7/dist-packages (from pandas->-r requirements.txt (line 1)) (2018.9)\n",
            "Requirement already satisfied: numpy>=1.15.4 in /usr/local/lib/python3.7/dist-packages (from pandas->-r requirements.txt (line 1)) (1.19.5)\n",
            "Requirement already satisfied: zope.interface in /usr/local/lib/python3.7/dist-packages (from datetime->-r requirements.txt (line 2)) (5.4.0)\n",
            "Requirement already satisfied: certifi>=2017.4.17 in /usr/local/lib/python3.7/dist-packages (from requests->-r requirements.txt (line 3)) (2021.5.30)\n",
            "Requirement already satisfied: urllib3!=1.25.0,!=1.25.1,<1.26,>=1.21.1 in /usr/local/lib/python3.7/dist-packages (from requests->-r requirements.txt (line 3)) (1.24.3)\n",
            "Requirement already satisfied: chardet<4,>=3.0.2 in /usr/local/lib/python3.7/dist-packages (from requests->-r requirements.txt (line 3)) (3.0.4)\n",
            "Requirement already satisfied: idna<3,>=2.5 in /usr/local/lib/python3.7/dist-packages (from requests->-r requirements.txt (line 3)) (2.10)\n",
            "Requirement already satisfied: pyparsing!=2.0.4,!=2.1.2,!=2.1.6,>=2.0.1 in /usr/local/lib/python3.7/dist-packages (from matplotlib->-r requirements.txt (line 4)) (2.4.7)\n",
            "Requirement already satisfied: kiwisolver>=1.0.1 in /usr/local/lib/python3.7/dist-packages (from matplotlib->-r requirements.txt (line 4)) (1.3.1)\n",
            "Requirement already satisfied: cycler>=0.10 in /usr/local/lib/python3.7/dist-packages (from matplotlib->-r requirements.txt (line 4)) (0.10.0)\n",
            "Requirement already satisfied: six>=1.5 in /usr/local/lib/python3.7/dist-packages (from python-dateutil>=2.7.3->pandas->-r requirements.txt (line 1)) (1.15.0)\n",
            "Requirement already satisfied: setuptools in /usr/local/lib/python3.7/dist-packages (from zope.interface->datetime->-r requirements.txt (line 2)) (57.0.0)\n"
          ],
          "name": "stdout"
        }
      ]
    },
    {
      "cell_type": "code",
      "metadata": {
        "id": "ztz0eLSIjsRr"
      },
      "source": [
        "## urlwrite function.\n",
        "\n",
        "def urlwrite(url, fileName):\n",
        "    response = requests.get(url)\n",
        "\n",
        "    for i in range(5):\n",
        "        if response.status_code == 200:\n",
        "            break\n",
        "        response = requests.get(url)\n",
        "    else:\n",
        "        raise Exception(\"Internet not working\")\n",
        "    \n",
        "    with open(fileName, 'w') as fptr:\n",
        "        fptr.write(response.text)\n"
      ],
      "execution_count": 21,
      "outputs": []
    },
    {
      "cell_type": "code",
      "metadata": {
        "id": "WFT_bKyHjsRv"
      },
      "source": [
        "## Required constants\n",
        "\n",
        "dummyFileName = 'data/dummy.csv'\n",
        "DateFormat = '%Y-%m-%d'\n",
        "fileName = 'cityAndStateNames.json'"
      ],
      "execution_count": 22,
      "outputs": []
    },
    {
      "cell_type": "code",
      "metadata": {
        "id": "uLjXKMc1jsRx"
      },
      "source": [
        "## Get district names and get state names\n",
        "def getDistrictNames():\n",
        "    with open(fileName) as fptr:\n",
        "        return json.loads(fptr.read())['cityNames']\n",
        "\n",
        "def getStateNames():\n",
        "    with open(fileName) as fptr:\n",
        "        return json.loads(fptr.read())['stateNames']"
      ],
      "execution_count": 23,
      "outputs": []
    },
    {
      "cell_type": "code",
      "metadata": {
        "id": "Q0mHhzlUjsRy"
      },
      "source": [
        "ifplotPR = True\n",
        "dists = True\n",
        "debug = False\n",
        "ifprint = True\n",
        "span = 7"
      ],
      "execution_count": 24,
      "outputs": []
    },
    {
      "cell_type": "code",
      "metadata": {
        "id": "_U7Y2a3JjsRz"
      },
      "source": [
        "fullName, sb_number,  name = None, None, None "
      ],
      "execution_count": 25,
      "outputs": []
    },
    {
      "cell_type": "code",
      "metadata": {
        "id": "YQ0ojFtKjsR0"
      },
      "source": [
        "if dists:\n",
        "    fullName = 'https://api.covid19india.org/csv/latest/districts.csv'\n",
        "    name = getDistrictNames()\n",
        "    tt1 = pd.to_datetime('2020-4-26')\n",
        "    sb_number = 4\n",
        "else:\n",
        "    fullName = 'https://api.covid19india.org/csv/latest/states.csv'\n",
        "    name = getStateNames()\n",
        "    tt1 = pd.to_datetime('2020-3-14')\n",
        "    sb_number = 5"
      ],
      "execution_count": 26,
      "outputs": []
    },
    {
      "cell_type": "code",
      "metadata": {
        "id": "ddtvIQ0_jsR2"
      },
      "source": [
        "urlwrite(fullName, dummyFileName)\n",
        "\n",
        "tableAll = pd.read_csv(dummyFileName, na_values={'Tested':['']})\n",
        "tableAll.Date = pd.to_datetime(tableAll.Date, format=\"%Y-%m-%d\")\n",
        "\n",
        "span1 = 14\n",
        "\n",
        "mean_si, min_mean_si, max_mean_si = 4.7, 3.7, 6.0\n",
        "std_si, min_std_si, max_std_si = 2.9, 1.9, 4.9 "
      ],
      "execution_count": 27,
      "outputs": []
    },
    {
      "cell_type": "code",
      "metadata": {
        "id": "rCinm1JQjsR6"
      },
      "source": [
        "for n in range(len(name)):\n",
        "\n",
        "    Location = name[n]\n",
        "\n",
        "    # To avoid scope related problems.\n",
        "    tableLocation = None\n",
        "    R, D, C, O, T = None, None, None, None, None\n",
        "\n",
        "    if dists:\n",
        "        tableLocation = tableAll[(tableAll.District == Location) & (tableAll.Date >= pd.to_datetime('1-3-2020', format='%d-%m-%Y'))]\n",
        "\n",
        "        R = tableLocation['Recovered'].to_numpy()\n",
        "        D = tableLocation['Deceased'].to_numpy()\n",
        "        C = tableLocation['Confirmed'].to_numpy()\n",
        "        O = tableLocation['Other'].to_numpy()\n",
        "        T = tableLocation['Tested'].to_numpy()\n",
        "    else:\n",
        "        tableLocation = tableAll[(tableAll.State == Location) & (tableAll.Date >= pd.to_datetime('1-3-2020', format='%d-%m-%Y'))]\n",
        "\n",
        "        R = tableLocation['Recovered'].to_numpy()\n",
        "        D = tableLocation['Deceased'].to_numpy()\n",
        "        C = tableLocation['Confirmed'].to_numpy()\n",
        "        O = tableLocation['Other'].to_numpy()\n",
        "        T = tableLocation['Tested'].to_numpy()\n",
        " \n",
        "        A = C - D - O - R # Active cases\n",
        "\n",
        "        dailyC = np.diff(C)\n",
        "\n",
        "        if debug:\n",
        "            fig = plt.figure()\n",
        "\n",
        "            plt.plot(date, C)\n",
        "            xlabel('Date')\n",
        "            ylabel('Confirmed Cases')\n",
        "            plt.legend()\n",
        "\n",
        "            plt.show()"
      ],
      "execution_count": 28,
      "outputs": []
    },
    {
      "cell_type": "code",
      "metadata": {
        "id": "Xte8r3xMjsR9"
      },
      "source": [
        ""
      ],
      "execution_count": null,
      "outputs": []
    }
  ]
}