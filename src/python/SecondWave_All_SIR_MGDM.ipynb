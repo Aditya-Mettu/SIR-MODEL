{
  "nbformat": 4,
  "nbformat_minor": 0,
  "metadata": {
    "language_info": {
      "codemirror_mode": {
        "name": "ipython",
        "version": 3
      },
      "file_extension": ".py",
      "mimetype": "text/x-python",
      "name": "python",
      "nbconvert_exporter": "python",
      "pygments_lexer": "ipython3",
      "version": "3.9.5-final"
    },
    "orig_nbformat": 2,
    "kernelspec": {
      "name": "python39564bit8237381f9b684bd69ff47211ba171df6",
      "display_name": "Python 3.9.5 64-bit"
    },
    "colab": {
      "name": "SecondWave_All_SIR_MGDM.ipynb",
      "provenance": [],
      "collapsed_sections": []
    }
  },
  "cells": [
    {
      "source": [
        "!pip install numpy\n",
        "!pip install matplotlib\n",
        "!pip install pandas\n",
        "\n",
        "import os\n",
        "\n",
        "SIRPath = \"/home/het/Documents/github-projects/SIR-MODEL\"\n",
        "print(os.getcwd())\n",
        "os.chdir(SIRPath)\n",
        "print(os.getcwd())\n",
        "\n",
        "import requests \n",
        "from sys import platform\n",
        "import pandas as pd \n",
        "import numpy as np \n",
        "from numpy.polynomial import Chebyshev\n",
        "from matplotlib import pyplot as plt \n",
        "import json\n",
        "from sys import platform"
      ],
      "cell_type": "code",
      "metadata": {
        "colab": {
          "base_uri": "https://localhost:8080/"
        },
        "id": "ABSEsSm-jsRi",
        "outputId": "ddeb9306-2f11-4866-a22e-3d1ad8800110"
      },
      "execution_count": 45,
      "outputs": [
        {
          "output_type": "stream",
          "name": "stdout",
          "text": [
            "Defaulting to user installation because normal site-packages is not writeable\n",
            "Requirement already satisfied: numpy in /usr/lib/python3.9/site-packages (1.20.3)\n",
            "Defaulting to user installation because normal site-packages is not writeable\n",
            "Requirement already satisfied: matplotlib in /usr/lib/python3.9/site-packages (3.4.1)\n",
            "Requirement already satisfied: cycler>=0.10 in /usr/lib/python3.9/site-packages (from matplotlib) (0.10.0)\n",
            "Requirement already satisfied: kiwisolver>=1.0.1 in /usr/lib/python3.9/site-packages (from matplotlib) (1.3.1)\n",
            "Requirement already satisfied: numpy>=1.16 in /usr/lib/python3.9/site-packages (from matplotlib) (1.20.3)\n",
            "Requirement already satisfied: pillow>=6.2.0 in /usr/lib/python3.9/site-packages (from matplotlib) (8.2.0)\n",
            "Requirement already satisfied: pyparsing>=2.2.1 in /usr/lib/python3.9/site-packages (from matplotlib) (2.4.7)\n",
            "Requirement already satisfied: python-dateutil>=2.7 in /usr/lib/python3.9/site-packages (from matplotlib) (2.8.1)\n",
            "Requirement already satisfied: six in /usr/lib/python3.9/site-packages (from cycler>=0.10->matplotlib) (1.16.0)\n",
            "Defaulting to user installation because normal site-packages is not writeable\n",
            "Requirement already satisfied: pandas in /home/het/.local/lib/python3.9/site-packages (1.2.4)\n",
            "Requirement already satisfied: python-dateutil>=2.7.3 in /usr/lib/python3.9/site-packages (from pandas) (2.8.1)\n",
            "Requirement already satisfied: numpy>=1.16.5 in /usr/lib/python3.9/site-packages (from pandas) (1.20.3)\n",
            "Requirement already satisfied: pytz>=2017.3 in /home/het/.local/lib/python3.9/site-packages (from pandas) (2021.1)\n",
            "Requirement already satisfied: six>=1.5 in /usr/lib/python3.9/site-packages (from python-dateutil>=2.7.3->pandas) (1.16.0)\n",
            "/home/het/Documents/github-projects/SIR-MODEL\n",
            "/home/het/Documents/github-projects/SIR-MODEL\n"
          ]
        }
      ]
    },
    {
      "cell_type": "code",
      "execution_count": 46,
      "metadata": {},
      "outputs": [],
      "source": [
        "## IsWindows defintion\n",
        "\n",
        "def isWindows():\n",
        "    return platform.lower().startswith(\"win\")"
      ]
    },
    {
      "cell_type": "code",
      "metadata": {
        "id": "ztz0eLSIjsRr"
      },
      "source": [
        "## urlwrite function.\n",
        "print(os.getcwd())\n",
        "def urlwrite(url, fileName):\n",
        "    response = requests.get(url)\n",
        "\n",
        "    for i in range(5):\n",
        "        if response.status_code == 200:\n",
        "            break\n",
        "        response = requests.get(url)\n",
        "    else:\n",
        "        raise Exception(\"Internet not working\")\n",
        "    \n",
        "    with open(fileName, 'w') as fptr:\n",
        "        fptr.write(response.text)\n"
      ],
      "execution_count": 47,
      "outputs": [
        {
          "output_type": "stream",
          "name": "stdout",
          "text": [
            "/home/het/Documents/github-projects/SIR-MODEL\n"
          ]
        }
      ]
    },
    {
      "cell_type": "code",
      "metadata": {
        "id": "WFT_bKyHjsRv"
      },
      "source": [
        "## Required constants\n",
        "\n",
        "dummyFileName = 'data\\dummy.csv' if isWindows() else 'data/dummy.csv'\n",
        "DateFormat = '%Y-%m-%d'\n",
        "fileName = 'data\\cityAndStateNames.json' if isWindows() else 'data/cityAndStateNames.json'"
      ],
      "execution_count": 48,
      "outputs": []
    },
    {
      "cell_type": "code",
      "metadata": {
        "id": "uLjXKMc1jsRx"
      },
      "source": [
        "## Get district names and get state names\n",
        "def getDistrictNames():\n",
        "    with open(fileName) as fptr:\n",
        "        return json.loads(fptr.read())['cityNames']\n",
        "\n",
        "def getStateNames():\n",
        "    with open(fileName) as fptr:\n",
        "        return json.loads(fptr.read())['stateNames']"
      ],
      "execution_count": 49,
      "outputs": []
    },
    {
      "cell_type": "code",
      "execution_count": 50,
      "metadata": {},
      "outputs": [],
      "source": [
        "## Movmean definition \n",
        "\n",
        "def movmean(a, n=3) :\n",
        "    ret = np.cumsum(a, dtype=float)\n",
        "    ret[n:] = ret[n:] - ret[:-n]\n",
        "    return ret[n - 1:] / n"
      ]
    },
    {
      "cell_type": "code",
      "execution_count": 51,
      "metadata": {},
      "outputs": [],
      "source": [
        "## Init class for init element\n",
        "\n",
        "class Init:\n",
        "    def __init__(self, country, date, C, D, R, Npop):\n",
        "        self.country = country\n",
        "        self.date = date\n",
        "        self.C = C\n",
        "        self.D = D\n",
        "        self.R = R\n",
        "        self.Npop = Npop"
      ]
    },
    {
      "cell_type": "code",
      "metadata": {
        "id": "Q0mHhzlUjsRy"
      },
      "source": [
        "ifplotPR = True\n",
        "dists = True\n",
        "debug = False\n",
        "ifprint = True\n",
        "span = 7"
      ],
      "execution_count": 52,
      "outputs": []
    },
    {
      "cell_type": "code",
      "metadata": {
        "id": "_U7Y2a3JjsRz"
      },
      "source": [
        "fullName, sb_number,  name = None, None, None "
      ],
      "execution_count": 53,
      "outputs": []
    },
    {
      "cell_type": "code",
      "metadata": {
        "id": "YQ0ojFtKjsR0"
      },
      "source": [
        "if dists:\n",
        "    fullName = 'https://api.covid19india.org/csv/latest/districts.csv'\n",
        "    name = getDistrictNames()\n",
        "    tt1 = pd.to_datetime('2020-4-26')\n",
        "    sb_number = 4\n",
        "else:\n",
        "    fullName = 'https://api.covid19india.org/csv/latest/states.csv'\n",
        "    name = getStateNames()\n",
        "    tt1 = pd.to_datetime('2020-3-14')\n",
        "    sb_number = 5"
      ],
      "execution_count": 54,
      "outputs": []
    },
    {
      "cell_type": "code",
      "metadata": {
        "id": "ddtvIQ0_jsR2"
      },
      "source": [
        "urlwrite(fullName, dummyFileName)\n",
        "\n",
        "tableAll = pd.read_csv(dummyFileName, na_values={'Tested':['']})\n",
        "tableAll.Date = pd.to_datetime(tableAll.Date, format=\"%Y-%m-%d\")\n",
        "\n",
        "span1 = 14\n",
        "\n",
        "mean_si, min_mean_si, max_mean_si = 4.7, 3.7, 6.0\n",
        "std_si, min_std_si, max_std_si = 2.9, 1.9, 4.9 "
      ],
      "execution_count": 55,
      "outputs": []
    },
    {
      "cell_type": "code",
      "metadata": {
        "id": "rCinm1JQjsR6"
      },
      "source": [
        "for n in range(len(name)):\n",
        "\n",
        "    Location = name[n]\n",
        "\n",
        "    # To avoid scope related problems.\n",
        "    tableLocation = None\n",
        "    R, D, C, O, T = None, None, None, None, None\n",
        "\n",
        "    dateInit = pd.to_datetime('2020-03-01', format = DateFormat)\n",
        "\n",
        "    if dists:\n",
        "        tableLocation = tableAll[(tableAll.District == Location) & (tableAll.Date >= pd.to_datetime('1-3-2020', format='%d-%m-%Y'))]\n",
        "\n",
        "        R = tableLocation['Recovered'].to_numpy()\n",
        "        D = tableLocation['Deceased'].to_numpy()\n",
        "        C = tableLocation['Confirmed'].to_numpy()\n",
        "        O = tableLocation['Other'].to_numpy()\n",
        "        T = tableLocation['Tested'].to_numpy()\n",
        "    else:\n",
        "        tableLocation = tableAll[(tableAll.State == Location) & (tableAll.Date >= pd.to_datetime('1-3-2020', format='%d-%m-%Y'))]\n",
        "\n",
        "        R = tableLocation['Recovered'].to_numpy()\n",
        "        D = tableLocation['Deceased'].to_numpy()\n",
        "        C = tableLocation['Confirmed'].to_numpy()\n",
        "        O = tableLocation['Other'].to_numpy()\n",
        "        T = tableLocation['Tested'].to_numpy()\n",
        " \n",
        "    date = tableLocation['Date'].to_numpy()\n",
        "    A = C - D - O - R # Active cases\n",
        "\n",
        "    dailyC = np.diff(C)\n",
        "\n",
        "    if debug:\n",
        "        fig = plt.figure()\n",
        "        fig.add_subplot(2, 1, (1))\n",
        "\n",
        "        plt.stem(date, C)\n",
        "        plt.xlabel('Date')\n",
        "        plt.ylabel('Confirmed Cases')\n",
        "            \n",
        "        fig.add_subplot(2, 1, (2))\n",
        "\n",
        "        plt.stem(date[1:], dailyC)\n",
        "        plt.xlabel('Date')\n",
        "        plt.ylabel('Infection rate')\n",
        "\n",
        "        plt.show()\n",
        "\n",
        "    PR = (np.diff(movmean(C,span)) / np.diff(movmean(T,span))) *100\n",
        "    CFR = (np.diff(movmean(D,span)) / np.diff(movmean(C,span))) *100\n",
        "    Testing = np.diff(T)\n",
        "\n",
        "    date0 = np.copy(date)\n",
        "    tt1 = None\n",
        "\n",
        "    if dists:\n",
        "        tt1 = str(date0[0])\n",
        "        sb_number = 4\n",
        "    else:\n",
        "        tt1 = str(date0[0])\n",
        "        sb_number = 5\n",
        "        \n",
        "    date1 = pd.to_datetime('2021-4-1', format = DateFormat)\n",
        "\n",
        "    dateEnd = date[-1]\n",
        "\n",
        "    tableLocation1 = tableLocation[(tableLocation.Date > date1) & (tableLocation.Date < dateEnd)]\n",
        "\n",
        "    date = tableLocation1['Date'].to_numpy()\n",
        "    C = tableLocation1['Confirmed'].to_numpy()\n",
        "    D = tableLocation1['Deceased'].to_numpy()\n",
        "    R = tableLocation1['Recovered'].to_numpy()\n",
        "    Npop = int('80e6', 16)\n",
        "\n",
        "    init = Init(Location, date, C, D, R, Npop)\n",
        "    # Init is a simple class to save data like a struct object.\n",
        "\n",
        "    diffC = np.diff(init.C)\n",
        "\n",
        "    q1 = diffC[0]\n",
        "    q2 = diffC[-1]\n",
        "    t = diffC.shape[0]\n",
        "\n",
        "    Cexp = np.copy(init.C)\n",
        "    texp = list(range(1, Cexp.shape[0] + 1))\n",
        "\n",
        "    returnVal = Chebyshev.fit(texp, Cexp, deg = 2)\n",
        "\n",
        "    print(returnVal)            "
      ],
      "execution_count": 56,
      "outputs": [
        {
          "output_type": "stream",
          "name": "stdout",
          "text": [
            "860622.7886016696 + 467038.849074976·T₁(x) - 77057.46557343165·T₂(x)\n",
            "856789.1059746227 + 249947.45034079862·T₁(x) - 71184.21734268502·T₂(x)\n",
            "626388.2627439075 + 124402.92015579376·T₁(x) - 52744.898819857255·T₂(x)\n",
            "496919.95005933556 + 103145.89678675757·T₁(x) - 41847.507873356786·T₂(x)\n",
            "403182.2291401085 + 132185.55501460575·T₁(x) - 55013.70589278623·T₂(x)\n",
            "234872.40386336998 + 126568.52969815001·T₁(x) - 5461.989671549053·T₂(x)\n",
            "170284.91540255214 + 99064.982473223·T₁(x) - 29499.706054937706·T₂(x)\n",
            "185755.7135143077 + 79105.57838364174·T₁(x) - 37780.481893080876·T₂(x)\n",
            "314729.1041625295 + 111832.77653359297·T₁(x) - 32518.376922996766·T₂(x)\n",
            "216566.61395247717 + 102708.26144109062·T₁(x) - 10836.27376260375·T₂(x)\n",
            "131237.98561055452 + 79717.55988315487·T₁(x) - 13463.929622238991·T₂(x)\n",
            "394956.14170160575 + 169897.9834469329·T₁(x) - 6680.9446470782395·T₂(x)\n",
            "131945.12604817943 + 72691.29016553066·T₁(x) - 19945.522104654552·T₂(x)\n",
            "107464.97032747399 + 56221.08617332037·T₁(x) - 3353.8130733357057·T₂(x)\n",
            "129672.4420290319 + 40042.54722492699·T₁(x) - 20774.158679470056·T₂(x)\n",
            "190613.01243201658 + 94122.14751703992·T₁(x) - 14725.419564440961·T₂(x)\n",
            "64029.76262499676 + 33769.81840311588·T₁(x) - 9246.714791501176·T₂(x)\n",
            "75436.65170615424 + 50280.852482960094·T₁(x) - 9376.724369250625·T₂(x)\n",
            "69203.09380845464 + 54282.03505355403·T₁(x) + 879.0218195882392·T₂(x)\n",
            "84709.50622781929 + 40376.2312560857·T₁(x) - 10544.355424508642·T₂(x)\n",
            "123226.031073435 + 59381.050146056485·T₁(x) - 5685.690396706668·T₂(x)\n",
            "113279.15056428735 + 42428.522882181096·T₁(x) - 14270.082039457635·T₂(x)\n",
            "108214.50525811325 + 54857.17332035055·T₁(x) - 14860.455964052775·T₂(x)\n",
            "147982.9166601272 + 71917.80185004871·T₁(x) + 4070.8780088114463·T₂(x)\n",
            "97128.19631383564 + 49950.225900681595·T₁(x) + 839.0205800299937·T₂(x)\n",
            "78633.26186949087 + 25798.133885102252·T₁(x) - 13005.315180104297·T₂(x)\n",
            "103352.90259378366 + 52702.013145082754·T₁(x) + 1946.8018852816042·T₂(x)\n",
            "70059.99573721686 + 29011.94644595912·T₁(x) - 10721.188410050332·T₂(x)\n",
            "66793.18613672613 + 26984.09055501461·T₁(x) - 10068.073794953994·T₂(x)\n",
            "67436.7063492127 + 36500.32083739044·T₁(x) + 1131.5549701641253·T₂(x)\n",
            "93065.13337382446 + 36367.88072054528·T₁(x) - 7103.578480932576·T₂(x)\n",
            "55727.02633981191 + 27151.422103213245·T₁(x) - 1167.0467877184333·T₂(x)\n",
            "119645.79495961028 + 48572.89435248297·T₁(x) - 2674.999195248019·T₂(x)\n",
            "62938.09229784311 + 37318.230282375865·T₁(x) - 5600.869683432191·T₂(x)\n",
            "118414.75978194027 + 47614.76679649464·T₁(x) - 9635.293861784425·T₂(x)\n",
            "64319.607943662566 + 27717.147030185002·T₁(x) - 11870.437666155243·T₂(x)\n"
          ]
        },
        {
          "output_type": "error",
          "ename": "IndexError",
          "evalue": "index 0 is out of bounds for axis 0 with size 0",
          "traceback": [
            "\u001b[0;31m---------------------------------------------------------------------------\u001b[0m",
            "\u001b[0;31mIndexError\u001b[0m                                Traceback (most recent call last)",
            "\u001b[0;32m<ipython-input-56-35b68efd17ae>\u001b[0m in \u001b[0;36m<module>\u001b[0;34m\u001b[0m\n\u001b[1;32m     55\u001b[0m \u001b[0;34m\u001b[0m\u001b[0m\n\u001b[1;32m     56\u001b[0m     \u001b[0;32mif\u001b[0m \u001b[0mdists\u001b[0m\u001b[0;34m:\u001b[0m\u001b[0;34m\u001b[0m\u001b[0;34m\u001b[0m\u001b[0m\n\u001b[0;32m---> 57\u001b[0;31m         \u001b[0mtt1\u001b[0m \u001b[0;34m=\u001b[0m \u001b[0mstr\u001b[0m\u001b[0;34m(\u001b[0m\u001b[0mdate0\u001b[0m\u001b[0;34m[\u001b[0m\u001b[0;36m0\u001b[0m\u001b[0;34m]\u001b[0m\u001b[0;34m)\u001b[0m\u001b[0;34m\u001b[0m\u001b[0;34m\u001b[0m\u001b[0m\n\u001b[0m\u001b[1;32m     58\u001b[0m         \u001b[0msb_number\u001b[0m \u001b[0;34m=\u001b[0m \u001b[0;36m4\u001b[0m\u001b[0;34m\u001b[0m\u001b[0;34m\u001b[0m\u001b[0m\n\u001b[1;32m     59\u001b[0m     \u001b[0;32melse\u001b[0m\u001b[0;34m:\u001b[0m\u001b[0;34m\u001b[0m\u001b[0;34m\u001b[0m\u001b[0m\n",
            "\u001b[0;31mIndexError\u001b[0m: index 0 is out of bounds for axis 0 with size 0"
          ]
        }
      ]
    },
    {
      "cell_type": "code",
      "metadata": {
        "id": "Xte8r3xMjsR9"
      },
      "source": [
        ""
      ],
      "execution_count": null,
      "outputs": []
    }
  ]
}