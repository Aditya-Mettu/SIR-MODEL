{
  "nbformat": 4,
  "nbformat_minor": 0,
  "metadata": {
    "language_info": {
      "codemirror_mode": {
        "name": "ipython",
        "version": 3
      },
      "file_extension": ".py",
      "mimetype": "text/x-python",
      "name": "python",
      "nbconvert_exporter": "python",
      "pygments_lexer": "ipython3",
      "version": "3.9.5-final"
    },
    "orig_nbformat": 2,
    "kernelspec": {
      "name": "python39564bit8237381f9b684bd69ff47211ba171df6",
      "display_name": "Python 3.9.5 64-bit"
    },
    "colab": {
      "name": "SecondWave_All_SIR_MGDM.ipynb",
      "provenance": [],
      "collapsed_sections": []
    }
  },
  "cells": [
    {
      "source": [
        "!pip install numpy\n",
        "!pip install matplotlib\n",
        "!pip install pandas\n",
        "!pip install scipy\n",
        "\n",
        "import os\n",
        "\n",
        "SIRPath = \"/home/het/Documents/github-projects/SIR-MODEL\"\n",
        "print(os.getcwd())\n",
        "os.chdir(SIRPath)\n",
        "print(os.getcwd())\n",
        "\n",
        "import requests \n",
        "from sys import platform\n",
        "import pandas as pd \n",
        "import numpy as np \n",
        "from matplotlib import pyplot as plt \n",
        "import json\n",
        "import math\n",
        "from sys import platform\n",
        "from scipy.optimize import curve_fit"
      ],
      "cell_type": "code",
      "metadata": {
        "colab": {
          "base_uri": "https://localhost:8080/"
        },
        "id": "ABSEsSm-jsRi",
        "outputId": "ddeb9306-2f11-4866-a22e-3d1ad8800110"
      },
      "execution_count": 96,
      "outputs": [
        {
          "output_type": "stream",
          "name": "stdout",
          "text": [
            "Defaulting to user installation because normal site-packages is not writeable\n",
            "Requirement already satisfied: numpy in /home/het/.local/lib/python3.9/site-packages (1.21.0)\n",
            "Defaulting to user installation because normal site-packages is not writeable\n",
            "Requirement already satisfied: matplotlib in /home/het/.local/lib/python3.9/site-packages (3.4.2)\n",
            "Requirement already satisfied: cycler>=0.10 in /home/het/.local/lib/python3.9/site-packages (from matplotlib) (0.10.0)\n",
            "Requirement already satisfied: python-dateutil>=2.7 in /home/het/.local/lib/python3.9/site-packages (from matplotlib) (2.8.1)\n",
            "Requirement already satisfied: pyparsing>=2.2.1 in /usr/lib/python3.9/site-packages (from matplotlib) (2.4.7)\n",
            "Requirement already satisfied: kiwisolver>=1.0.1 in /home/het/.local/lib/python3.9/site-packages (from matplotlib) (1.3.1)\n",
            "Requirement already satisfied: pillow>=6.2.0 in /usr/lib/python3.9/site-packages (from matplotlib) (8.2.0)\n",
            "Requirement already satisfied: numpy>=1.16 in /home/het/.local/lib/python3.9/site-packages (from matplotlib) (1.21.0)\n",
            "Requirement already satisfied: six in /usr/lib/python3.9/site-packages (from cycler>=0.10->matplotlib) (1.16.0)\n",
            "Requirement already satisfied: six in /usr/lib/python3.9/site-packages (from cycler>=0.10->matplotlib) (1.16.0)\n",
            "Defaulting to user installation because normal site-packages is not writeable\n",
            "Requirement already satisfied: pandas in /home/het/.local/lib/python3.9/site-packages (1.2.5)\n",
            "Requirement already satisfied: numpy>=1.16.5 in /home/het/.local/lib/python3.9/site-packages (from pandas) (1.21.0)\n",
            "Requirement already satisfied: python-dateutil>=2.7.3 in /home/het/.local/lib/python3.9/site-packages (from pandas) (2.8.1)\n",
            "Requirement already satisfied: pytz>=2017.3 in /home/het/.local/lib/python3.9/site-packages (from pandas) (2021.1)\n",
            "Requirement already satisfied: six>=1.5 in /usr/lib/python3.9/site-packages (from python-dateutil>=2.7.3->pandas) (1.16.0)\n",
            "Defaulting to user installation because normal site-packages is not writeable\n",
            "Requirement already satisfied: scipy in /home/het/.local/lib/python3.9/site-packages (1.7.0)\n",
            "Requirement already satisfied: numpy<1.23.0,>=1.16.5 in /home/het/.local/lib/python3.9/site-packages (from scipy) (1.21.0)\n",
            "/home/het/Documents/github-projects/SIR-MODEL\n",
            "/home/het/Documents/github-projects/SIR-MODEL\n"
          ]
        }
      ]
    },
    {
      "cell_type": "code",
      "execution_count": 97,
      "metadata": {},
      "outputs": [],
      "source": [
        "## IsWindows defintion\n",
        "\n",
        "def isWindows():\n",
        "    return platform.lower().startswith(\"win\")"
      ]
    },
    {
      "cell_type": "code",
      "metadata": {
        "id": "ztz0eLSIjsRr"
      },
      "source": [
        "## urlwrite function.\n",
        "print(os.getcwd())\n",
        "def urlwrite(url, fileName):\n",
        "    response = requests.get(url)\n",
        "\n",
        "    for i in range(5):\n",
        "        if response.status_code == 200:\n",
        "            break\n",
        "        response = requests.get(url)\n",
        "    else:\n",
        "        raise Exception(\"Internet not working\")\n",
        "    \n",
        "    with open(fileName, 'w') as fptr:\n",
        "        fptr.write(response.text)\n"
      ],
      "execution_count": 98,
      "outputs": [
        {
          "output_type": "stream",
          "name": "stdout",
          "text": [
            "/home/het/Documents/github-projects/SIR-MODEL\n"
          ]
        }
      ]
    },
    {
      "cell_type": "code",
      "metadata": {
        "id": "WFT_bKyHjsRv"
      },
      "source": [
        "## Required constants\n",
        "\n",
        "dummyFileName = 'data\\dummy.csv' if isWindows() else 'data/dummy.csv'\n",
        "DateFormat = '%Y-%m-%d'\n",
        "fileName = 'data\\cityAndStateNames.json' if isWindows() else 'data/cityAndStateNames.json'"
      ],
      "execution_count": 99,
      "outputs": []
    },
    {
      "cell_type": "code",
      "metadata": {
        "id": "uLjXKMc1jsRx"
      },
      "source": [
        "## Get district names and get state names\n",
        "def getDistrictNames():\n",
        "    with open(fileName) as fptr:\n",
        "        return json.loads(fptr.read())['cityNames']\n",
        "\n",
        "def getStateNames():\n",
        "    with open(fileName) as fptr:\n",
        "        return json.loads(fptr.read())['stateNames']"
      ],
      "execution_count": 100,
      "outputs": []
    },
    {
      "cell_type": "code",
      "execution_count": 101,
      "metadata": {},
      "outputs": [],
      "source": [
        "## Movmean definition \n",
        "\n",
        "def movmean(a, n=3) :\n",
        "    ret = np.cumsum(a, dtype=float)\n",
        "    ret[n:] = ret[n:] - ret[:-n]\n",
        "    return ret[n - 1:] / n"
      ]
    },
    {
      "cell_type": "code",
      "execution_count": 102,
      "metadata": {},
      "outputs": [],
      "source": [
        "## Init class for init element\n",
        "\n",
        "class Init:\n",
        "    def __init__(self, country, date, C, D, R, Npop):\n",
        "        self.country = country\n",
        "        self.date = date\n",
        "        self.C = C\n",
        "        self.D = D\n",
        "        self.R = R\n",
        "        self.Npop = Npop"
      ]
    },
    {
      "cell_type": "code",
      "execution_count": 103,
      "metadata": {},
      "outputs": [],
      "source": [
        "## Model class for EXP and LOG elements\n",
        "\n",
        "class ModelClass:\n",
        "    def __init__(self, date, C):\n",
        "        self.date = date\n",
        "        self.C = C"
      ]
    },
    {
      "cell_type": "code",
      "metadata": {
        "id": "Q0mHhzlUjsRy"
      },
      "source": [
        "ifplotPR = True\n",
        "dists = True\n",
        "debug = False\n",
        "ifprint = True\n",
        "span = 7"
      ],
      "execution_count": 104,
      "outputs": []
    },
    {
      "cell_type": "code",
      "metadata": {
        "id": "_U7Y2a3JjsRz"
      },
      "source": [
        "fullName, sb_number,  name = None, None, None "
      ],
      "execution_count": 105,
      "outputs": []
    },
    {
      "cell_type": "code",
      "metadata": {
        "id": "YQ0ojFtKjsR0"
      },
      "source": [
        "if dists:\n",
        "    fullName = 'https://api.covid19india.org/csv/latest/districts.csv'\n",
        "    name = getDistrictNames()\n",
        "    tt1 = pd.to_datetime('2020-4-26')\n",
        "    sb_number = 4\n",
        "else:\n",
        "    fullName = 'https://api.covid19india.org/csv/latest/states.csv'\n",
        "    name = getStateNames()\n",
        "    tt1 = pd.to_datetime('2020-3-14')\n",
        "    sb_number = 5"
      ],
      "execution_count": 106,
      "outputs": []
    },
    {
      "cell_type": "code",
      "metadata": {
        "id": "ddtvIQ0_jsR2"
      },
      "source": [
        "urlwrite(fullName, dummyFileName)\n",
        "\n",
        "tableAll = pd.read_csv(dummyFileName, na_values={'Tested':['']})\n",
        "tableAll.Date = pd.to_datetime(tableAll.Date, format=\"%Y-%m-%d\")\n",
        "\n",
        "span1 = 14\n",
        "\n",
        "mean_si, min_mean_si, max_mean_si = 4.7, 3.7, 6.0\n",
        "std_si, min_std_si, max_std_si = 2.9, 1.9, 4.9 "
      ],
      "execution_count": 107,
      "outputs": []
    },
    {
      "cell_type": "code",
      "execution_count": 108,
      "metadata": {},
      "outputs": [],
      "source": [
        "## Exponential model function.\n",
        "\n",
        "def funcExp1(x, a, b):\n",
        "    return a*np.exp(b*x)"
      ]
    },
    {
      "cell_type": "code",
      "execution_count": 109,
      "metadata": {},
      "outputs": [],
      "source": [
        "## Logistic model function.\n",
        "\n",
        "def funcLogistic(x, a1, a2, a3):\n",
        "    return a1/(1 + a2*np.exp(-1*a3*x))"
      ]
    },
    {
      "cell_type": "code",
      "execution_count": 110,
      "metadata": {},
      "outputs": [],
      "source": [
        "## logmdl model function.\n",
        "\n",
        "def funcLogmdl(x, a0, a1, a2):\n",
        "    return a0/(1+a1*np.exp(-1*a2*x))"
      ]
    },
    {
      "cell_type": "code",
      "metadata": {
        "id": "rCinm1JQjsR6"
      },
      "source": [
        "for n in range(len(name)):\n",
        "\n",
        "    Location = name[n]\n",
        "\n",
        "    # To avoid scope related problems.\n",
        "    tableLocation = None\n",
        "    R, D, C, O, T = None, None, None, None, None\n",
        "\n",
        "    dateInit = pd.to_datetime('2020-03-01', format = DateFormat)\n",
        "\n",
        "    if dists:\n",
        "        tableLocation = tableAll[(tableAll.District == Location) & (tableAll.Date >= pd.to_datetime('1-3-2020', format='%d-%m-%Y'))]\n",
        "\n",
        "        R = tableLocation['Recovered'].to_numpy()\n",
        "        D = tableLocation['Deceased'].to_numpy()\n",
        "        C = tableLocation['Confirmed'].to_numpy()\n",
        "        O = tableLocation['Other'].to_numpy()\n",
        "        T = tableLocation['Tested'].to_numpy()\n",
        "    else:\n",
        "        tableLocation = tableAll[(tableAll.State == Location) & (tableAll.Date >= pd.to_datetime('1-3-2020', format='%d-%m-%Y'))]\n",
        "\n",
        "        R = tableLocation['Recovered'].to_numpy()\n",
        "        D = tableLocation['Deceased'].to_numpy()\n",
        "        C = tableLocation['Confirmed'].to_numpy()\n",
        "        O = tableLocation['Other'].to_numpy()\n",
        "        T = tableLocation['Tested'].to_numpy()\n",
        " \n",
        "    date = tableLocation['Date'].to_numpy()\n",
        "    A = C - D - O - R # Active cases\n",
        "\n",
        "    dailyC = np.diff(C)\n",
        "\n",
        "    if debug:\n",
        "        fig = plt.figure()\n",
        "        fig.add_subplot(2, 1, (1))\n",
        "\n",
        "        plt.stem(date, C)\n",
        "        plt.xlabel('Date')\n",
        "        plt.ylabel('Confirmed Cases')\n",
        "            \n",
        "        fig.add_subplot(2, 1, (2))\n",
        "\n",
        "        plt.stem(date[1:], dailyC)\n",
        "        plt.xlabel('Date')\n",
        "        plt.ylabel('Infection rate')\n",
        "\n",
        "        plt.show()\n",
        "    \n",
        "    if not dists:\n",
        "        PR = (np.diff(movmean(C,span)) / np.diff(movmean(T,span))) *100\n",
        "        Testing = np.diff(T)\n",
        "    CFR = (np.diff(movmean(D,span)) / np.diff(movmean(C,span))) *100\n",
        "\n",
        "    date0 = np.copy(date)\n",
        "    tt1 = None\n",
        "\n",
        "    if dists:\n",
        "        tt1 = str(date0[0])\n",
        "        sb_number = 4\n",
        "    else:\n",
        "        tt1 = str(date0[0])\n",
        "        sb_number = 5\n",
        "        \n",
        "    date1 = pd.to_datetime('2021-4-1', format = DateFormat)\n",
        "\n",
        "    dateEnd = date[-1]\n",
        "\n",
        "    tableLocation1 = tableLocation[(tableLocation.Date > date1) & (tableLocation.Date < dateEnd)]\n",
        "\n",
        "    date = tableLocation1['Date'].to_numpy()\n",
        "    C = tableLocation1['Confirmed'].to_numpy()\n",
        "    D = tableLocation1['Deceased'].to_numpy()\n",
        "    R = tableLocation1['Recovered'].to_numpy()\n",
        "    Npop = int('80e6', 16)\n",
        "\n",
        "    init = Init(Location, date, C, D, R, Npop)\n",
        "    # Init is a simple class to save data like a struct object.\n",
        "\n",
        "    diffC = np.diff(init.C)\n",
        "\n",
        "    q1 = diffC[0]\n",
        "    q2 = diffC[-1]\n",
        "    t = diffC.shape[0]          "
      ],
      "execution_count": 111,
      "outputs": []
    },
    {
      "cell_type": "code",
      "metadata": {
        "id": "Xte8r3xMjsR9"
      },
      "source": [
        "    ## Exponential model\n",
        "\n",
        "    Cexp = np.copy(init.C)\n",
        "    texp = np.array(list(range(1, Cexp.shape[0] + 1)))\n",
        "\n",
        "    f, pcov = curve_fit(funcExp1, texp, Cexp)\n",
        "\n",
        "    coeff = list(f)\n",
        "    td_2 = math.log(2)/coeff[1]\n",
        "\n",
        "    tnew = texp + 120\n",
        "\n",
        "    EXP = ModelClass(date, funcExp1(tnew, *f))\n"
      ],
      "execution_count": 112,
      "outputs": []
    },
    {
      "cell_type": "code",
      "execution_count": 113,
      "metadata": {},
      "outputs": [],
      "source": [
        "    ## Logistic model\n",
        "\n",
        "    flog, pcov = curve_fit(funcLogistic, texp, Cexp)"
      ]
    },
    {
      "cell_type": "code",
      "execution_count": 114,
      "metadata": {},
      "outputs": [],
      "source": [
        "    ## Using For coefficients\n",
        "        \n",
        "    logmdl, pcov= curve_fit(funcLogmdl, texp, Cexp)\n",
        "    LOG = ModelClass(date, funcLogmdl(tnew, *logmdl))\n"
      ]
    },
    {
      "cell_type": "code",
      "execution_count": null,
      "metadata": {},
      "outputs": [],
      "source": []
    },
    {
      "cell_type": "code",
      "execution_count": null,
      "metadata": {},
      "outputs": [],
      "source": []
    },
    {
      "cell_type": "code",
      "execution_count": null,
      "metadata": {},
      "outputs": [],
      "source": []
    },
    {
      "cell_type": "code",
      "execution_count": null,
      "metadata": {},
      "outputs": [],
      "source": []
    },
    {
      "cell_type": "code",
      "execution_count": null,
      "metadata": {},
      "outputs": [],
      "source": []
    },
    {
      "cell_type": "code",
      "execution_count": null,
      "metadata": {},
      "outputs": [],
      "source": []
    }
  ]
}